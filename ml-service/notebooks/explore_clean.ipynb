{
 "cells": [
  {
   "cell_type": "markdown",
   "id": "ab1f1458-51ae-4d29-9e99-12645fd3175a",
   "metadata": {},
   "source": [
    "# Step 0: Import Libraries"
   ]
  },
  {
   "cell_type": "code",
   "execution_count": 23,
   "id": "a945fbd5-2893-4a67-b1c4-3e3a3a4fca9e",
   "metadata": {},
   "outputs": [],
   "source": [
    "import pandas as pd\n",
    "import numpy as np"
   ]
  },
  {
   "cell_type": "markdown",
   "id": "5d98f476-9ec4-4774-98e0-8443e119d63b",
   "metadata": {},
   "source": [
    "# Step 1: Load Raw Dataset"
   ]
  },
  {
   "cell_type": "code",
   "execution_count": 24,
   "id": "628efe1a-eabe-45d5-86f2-593249e31d4e",
   "metadata": {},
   "outputs": [],
   "source": [
    "df = pd.read_csv(\"../data/exoplanets.csv\")"
   ]
  },
  {
   "cell_type": "code",
   "execution_count": 25,
   "id": "992758f1-371c-4253-a487-48cf2c4d598a",
   "metadata": {},
   "outputs": [
    {
     "name": "stdout",
     "output_type": "stream",
     "text": [
      "✅ Raw dataset loaded!\n",
      "Shape: (4855, 12)\n",
      "Columns: ['Name', 'Mass (MJ)', 'Radius (RJ)', 'Period (days)', 'Semi-major axis (AU)', 'Temp. (K)', 'Discovery method', 'Disc. Year', 'Distance (ly)', 'Host star mass (M☉)', 'Host star temp. (K)', 'Remarks']\n"
     ]
    },
    {
     "data": {
      "text/html": [
       "<div>\n",
       "<style scoped>\n",
       "    .dataframe tbody tr th:only-of-type {\n",
       "        vertical-align: middle;\n",
       "    }\n",
       "\n",
       "    .dataframe tbody tr th {\n",
       "        vertical-align: top;\n",
       "    }\n",
       "\n",
       "    .dataframe thead th {\n",
       "        text-align: right;\n",
       "    }\n",
       "</style>\n",
       "<table border=\"1\" class=\"dataframe\">\n",
       "  <thead>\n",
       "    <tr style=\"text-align: right;\">\n",
       "      <th></th>\n",
       "      <th>Name</th>\n",
       "      <th>Mass (MJ)</th>\n",
       "      <th>Radius (RJ)</th>\n",
       "      <th>Period (days)</th>\n",
       "      <th>Semi-major axis (AU)</th>\n",
       "      <th>Temp. (K)</th>\n",
       "      <th>Discovery method</th>\n",
       "      <th>Disc. Year</th>\n",
       "      <th>Distance (ly)</th>\n",
       "      <th>Host star mass (M☉)</th>\n",
       "      <th>Host star temp. (K)</th>\n",
       "      <th>Remarks</th>\n",
       "    </tr>\n",
       "  </thead>\n",
       "  <tbody>\n",
       "    <tr>\n",
       "      <th>0</th>\n",
       "      <td>16 Cygni Bb</td>\n",
       "      <td>2.38</td>\n",
       "      <td>NaN</td>\n",
       "      <td>799.5</td>\n",
       "      <td>1.66</td>\n",
       "      <td>NaN</td>\n",
       "      <td>radial vel.</td>\n",
       "      <td>1996.0</td>\n",
       "      <td>68.99</td>\n",
       "      <td>1.04</td>\n",
       "      <td>5750</td>\n",
       "      <td>NaN</td>\n",
       "    </tr>\n",
       "    <tr>\n",
       "      <th>1</th>\n",
       "      <td>23 Librae b</td>\n",
       "      <td>1.61</td>\n",
       "      <td>NaN</td>\n",
       "      <td>258.18</td>\n",
       "      <td>0.81</td>\n",
       "      <td>NaN</td>\n",
       "      <td>radial vel.</td>\n",
       "      <td>1999.0</td>\n",
       "      <td>85.46</td>\n",
       "      <td>1.07</td>\n",
       "      <td>5736</td>\n",
       "      <td>NaN</td>\n",
       "    </tr>\n",
       "    <tr>\n",
       "      <th>2</th>\n",
       "      <td>47 Ursae Majoris b</td>\n",
       "      <td>2.53</td>\n",
       "      <td>NaN</td>\n",
       "      <td>1078</td>\n",
       "      <td>2.1</td>\n",
       "      <td>NaN</td>\n",
       "      <td>radial vel.</td>\n",
       "      <td>1996.0</td>\n",
       "      <td>45.02</td>\n",
       "      <td>1.08</td>\n",
       "      <td>5892</td>\n",
       "      <td>Proper name Taphao Thong</td>\n",
       "    </tr>\n",
       "    <tr>\n",
       "      <th>3</th>\n",
       "      <td>51 Pegasi b</td>\n",
       "      <td>0.46</td>\n",
       "      <td>NaN</td>\n",
       "      <td>4.230785</td>\n",
       "      <td>0.0527</td>\n",
       "      <td>NaN</td>\n",
       "      <td>radial vel.</td>\n",
       "      <td>1995.0</td>\n",
       "      <td>50.45</td>\n",
       "      <td>1.12</td>\n",
       "      <td>5793</td>\n",
       "      <td>Proper name Dimidium; previously informally na...</td>\n",
       "    </tr>\n",
       "    <tr>\n",
       "      <th>4</th>\n",
       "      <td>55 Cancri b</td>\n",
       "      <td>0.8306</td>\n",
       "      <td>NaN</td>\n",
       "      <td>14.65152</td>\n",
       "      <td>0.115227</td>\n",
       "      <td>700</td>\n",
       "      <td>radial vel.</td>\n",
       "      <td>1996.0</td>\n",
       "      <td>41.06</td>\n",
       "      <td>0.905</td>\n",
       "      <td>5196</td>\n",
       "      <td>Proper name Galileo</td>\n",
       "    </tr>\n",
       "  </tbody>\n",
       "</table>\n",
       "</div>"
      ],
      "text/plain": [
       "                 Name Mass (MJ) Radius (RJ) Period (days)  \\\n",
       "0         16 Cygni Bb      2.38         NaN         799.5   \n",
       "1         23 Librae b      1.61         NaN        258.18   \n",
       "2  47 Ursae Majoris b      2.53         NaN          1078   \n",
       "3         51 Pegasi b      0.46         NaN      4.230785   \n",
       "4         55 Cancri b    0.8306         NaN      14.65152   \n",
       "\n",
       "  Semi-major axis (AU) Temp. (K) Discovery method  Disc. Year Distance (ly)  \\\n",
       "0                 1.66       NaN      radial vel.      1996.0         68.99   \n",
       "1                 0.81       NaN      radial vel.      1999.0         85.46   \n",
       "2                  2.1       NaN      radial vel.      1996.0         45.02   \n",
       "3               0.0527       NaN      radial vel.      1995.0         50.45   \n",
       "4             0.115227       700      radial vel.      1996.0         41.06   \n",
       "\n",
       "  Host star mass (M☉) Host star temp. (K)  \\\n",
       "0                1.04                5750   \n",
       "1                1.07                5736   \n",
       "2                1.08                5892   \n",
       "3                1.12                5793   \n",
       "4               0.905                5196   \n",
       "\n",
       "                                             Remarks  \n",
       "0                                                NaN  \n",
       "1                                                NaN  \n",
       "2                           Proper name Taphao Thong  \n",
       "3  Proper name Dimidium; previously informally na...  \n",
       "4                                Proper name Galileo  "
      ]
     },
     "execution_count": 25,
     "metadata": {},
     "output_type": "execute_result"
    }
   ],
   "source": [
    "print(\"✅ Raw dataset loaded!\")\n",
    "print(\"Shape:\", df.shape)\n",
    "print(\"Columns:\", df.columns.tolist())\n",
    "df.head()"
   ]
  },
  {
   "cell_type": "markdown",
   "id": "8d1b4694-e12f-453e-8523-2e1dd1f85afd",
   "metadata": {},
   "source": [
    "# Step 2: Rename Columns for Consistency"
   ]
  },
  {
   "cell_type": "code",
   "execution_count": 26,
   "id": "3d59a8e5-78d7-4b46-9ca4-2a93cf0dd904",
   "metadata": {},
   "outputs": [],
   "source": [
    "df = df.rename(columns={\n",
    "    \"Name\": \"name\",\n",
    "    \"Mass (MJ)\": \"mass_mj\",\n",
    "    \"Radius (RJ)\": \"radius_rj\",\n",
    "    \"Period (days)\": \"period_days\",\n",
    "    \"Semi-major axis (AU)\": \"semi_major_axis_au\",\n",
    "    \"Temp. (K)\": \"temp_k\",\n",
    "    \"Distance (ly)\": \"distance_ly\",\n",
    "    \"Host star mass (M☉)\": \"star_mass_solar\",  # fix unicode\n",
    "    \"Host star temp. (K)\": \"star_temp_k\",\n",
    "    \"Discovery method\": \"discovery_method\",\n",
    "    \"Disc. Year\": \"disc_year\",\n",
    "    \"Remarks\": \"remarks\"\n",
    "})"
   ]
  },
  {
   "cell_type": "code",
   "execution_count": 27,
   "id": "7caf4c5d-38a3-4fd9-a264-8414826a712e",
   "metadata": {},
   "outputs": [
    {
     "name": "stdout",
     "output_type": "stream",
     "text": [
      "✅ Columns renamed!\n"
     ]
    }
   ],
   "source": [
    "print(\"✅ Columns renamed!\")"
   ]
  },
  {
   "cell_type": "markdown",
   "id": "f94c3030-9506-4b04-b417-0d80a3c8e5da",
   "metadata": {},
   "source": [
    "# Step 3: Unit Conversion"
   ]
  },
  {
   "cell_type": "code",
   "execution_count": 28,
   "id": "ade04811-26a2-47cd-b037-a70ea8cb95e3",
   "metadata": {},
   "outputs": [],
   "source": [
    "df[\"mass_earth\"] = pd.to_numeric(df[\"mass_mj\"], errors=\"coerce\") * 317.8\n",
    "df[\"radius_earth\"] = pd.to_numeric(df[\"radius_rj\"], errors=\"coerce\") * 11.21\n"
   ]
  },
  {
   "cell_type": "code",
   "execution_count": 29,
   "id": "4a7f24d1-61d2-47c6-acb2-399f33ff065d",
   "metadata": {},
   "outputs": [
    {
     "name": "stdout",
     "output_type": "stream",
     "text": [
      "✅ Units converted to Earth Mass & Radius\n"
     ]
    }
   ],
   "source": [
    "print(\"✅ Units converted to Earth Mass & Radius\")"
   ]
  },
  {
   "cell_type": "markdown",
   "id": "bdef4c4a-2f95-4cbc-a474-29b5f3def284",
   "metadata": {},
   "source": [
    "# Step 4: Handle Missing Values"
   ]
  },
  {
   "cell_type": "code",
   "execution_count": 30,
   "id": "6b394ea0-1fff-46db-87d2-787349e526c5",
   "metadata": {},
   "outputs": [],
   "source": [
    "num_cols = [\n",
    "    \"mass_earth\", \"radius_earth\", \"period_days\", \"semi_major_axis_au\",\n",
    "    \"temp_k\", \"distance_ly\", \"star_mass_solar\", \"star_temp_k\"\n",
    "]"
   ]
  },
  {
   "cell_type": "code",
   "execution_count": 31,
   "id": "cf6ac576-461a-4f71-b453-8db62e742fea",
   "metadata": {},
   "outputs": [],
   "source": [
    "# Convert numeric + fill missing\n",
    "for col in num_cols:\n",
    "    if col in df.columns:\n",
    "        df[col] = pd.to_numeric(df[col], errors=\"coerce\")\n",
    "        df[col] = df[col].fillna(df[col].median())"
   ]
  },
  {
   "cell_type": "code",
   "execution_count": 32,
   "id": "217afec1-fe53-495d-90b5-5c0868306461",
   "metadata": {},
   "outputs": [],
   "source": [
    "# Categorical fill\n",
    "cat_cols = [\"discovery_method\"]\n",
    "for col in cat_cols:\n",
    "    if col in df.columns:\n",
    "        df[col] = df[col].fillna(df[col].mode()[0])"
   ]
  },
  {
   "cell_type": "code",
   "execution_count": 33,
   "id": "5a372e8d-4dab-4ab0-8a74-b274728233ef",
   "metadata": {},
   "outputs": [],
   "source": [
    "# Drop if everything is NaN\n",
    "df = df.dropna(subset=[\"mass_earth\", \"radius_earth\", \"semi_major_axis_au\"], how=\"all\")"
   ]
  },
  {
   "cell_type": "code",
   "execution_count": 34,
   "id": "8c2204ce-1a19-4349-9923-4139e0eded56",
   "metadata": {},
   "outputs": [
    {
     "name": "stdout",
     "output_type": "stream",
     "text": [
      "✅ Missing values handled!\n"
     ]
    }
   ],
   "source": [
    "print(\"✅ Missing values handled!\")"
   ]
  },
  {
   "cell_type": "markdown",
   "id": "cb9646e2-7f60-43d1-a4b8-b2a24a68d8ca",
   "metadata": {},
   "source": [
    "# Step 5: Habitability Scoring Function"
   ]
  },
  {
   "cell_type": "code",
   "execution_count": 35,
   "id": "09b8c778-07c6-4f74-9997-6054c1828255",
   "metadata": {},
   "outputs": [],
   "source": [
    "def habitability_score(row):\n",
    "    scores = []\n",
    "\n",
    "    # Rule 1: Temperature (ideal = 288K, tolerance wider)\n",
    "    if pd.notna(row[\"temp_k\"]):\n",
    "        score_temp = max(0, 1 - abs(row[\"temp_k\"] - 288) / 288)\n",
    "    else:\n",
    "        score_temp = 0\n",
    "    scores.append(score_temp)\n",
    "\n",
    "    # Rule 2: Distance (ideal = 1 AU)\n",
    "    if pd.notna(row[\"semi_major_axis_au\"]):\n",
    "        score_distance = max(0, 1 - abs(row[\"semi_major_axis_au\"] - 1) / 1)\n",
    "    else:\n",
    "        score_distance = 0\n",
    "    scores.append(score_distance)\n",
    "\n",
    "    # Rule 3: Radius (ideal = 1 Earth radius)\n",
    "    if pd.notna(row[\"radius_earth\"]):\n",
    "        score_radius = max(0, 1 - abs(row[\"radius_earth\"] - 1) / 5)\n",
    "    else:\n",
    "        score_radius = 0\n",
    "    scores.append(score_radius)\n",
    "\n",
    "    # Rule 4: Mass (ideal = 1 Earth mass)\n",
    "    if pd.notna(row[\"mass_earth\"]):\n",
    "        score_mass = max(0, 1 - abs(row[\"mass_earth\"] - 1) / 10)\n",
    "    else:\n",
    "        score_mass = 0\n",
    "    scores.append(score_mass)\n",
    "\n",
    "    # Rule 5: Star Mass (ideal = 1 Solar mass)\n",
    "    if pd.notna(row[\"star_mass_solar\"]):\n",
    "        score_star = max(0, 1 - abs(row[\"star_mass_solar\"] - 1) / 1)\n",
    "    else:\n",
    "        score_star = 0\n",
    "    scores.append(score_star)\n",
    "\n",
    "    # Average all scores → percentage\n",
    "    return (np.mean(scores)) * 100"
   ]
  },
  {
   "cell_type": "code",
   "execution_count": 36,
   "id": "abcd312c-39cf-413b-8ee9-03578d55a5bf",
   "metadata": {},
   "outputs": [],
   "source": [
    "df[\"habitability_score\"] = df.apply(habitability_score, axis=1)"
   ]
  },
  {
   "cell_type": "code",
   "execution_count": 37,
   "id": "2e8a7882-8875-4b10-a179-2209c6727f0d",
   "metadata": {},
   "outputs": [],
   "source": [
    "# Label: 1 if score ≥ 50%\n",
    "df[\"habitability_label\"] = (df[\"habitability_score\"] >= 50).astype(int)"
   ]
  },
  {
   "cell_type": "code",
   "execution_count": 38,
   "id": "ec27d6fe-bd66-4357-8c8f-73b4c4a62420",
   "metadata": {},
   "outputs": [
    {
     "name": "stdout",
     "output_type": "stream",
     "text": [
      "✅ Habitability score calculated!\n"
     ]
    }
   ],
   "source": [
    "print(\"✅ Habitability score calculated!\")"
   ]
  },
  {
   "cell_type": "code",
   "execution_count": 39,
   "id": "8bc505d1-7949-427d-9525-180d56ed62e4",
   "metadata": {},
   "outputs": [
    {
     "name": "stdout",
     "output_type": "stream",
     "text": [
      "✅ Continuous habitability scoring complete!\n"
     ]
    }
   ],
   "source": [
    "print(\"✅ Continuous habitability scoring complete!\")"
   ]
  },
  {
   "cell_type": "markdown",
   "id": "051c5f2c-7ede-4769-9709-a262871e5b88",
   "metadata": {},
   "source": [
    "# Step 6: Save Processed Dataset"
   ]
  },
  {
   "cell_type": "code",
   "execution_count": 41,
   "id": "0b82cee1-c799-4b1a-8061-c9d9138006dc",
   "metadata": {},
   "outputs": [],
   "source": [
    "output_path = \"../data/exoplanets_processed.csv\"\n",
    "df.to_csv(output_path, index=False)"
   ]
  },
  {
   "cell_type": "code",
   "execution_count": 42,
   "id": "d109f631-3391-4b99-84ba-1f6a7a83e606",
   "metadata": {},
   "outputs": [
    {
     "name": "stdout",
     "output_type": "stream",
     "text": [
      "✅ Preprocessing complete!\n",
      "Saved at: ../data/exoplanets_processed.csv\n",
      "Total planets: 4855\n",
      "Potentially habitable planets: 106\n"
     ]
    }
   ],
   "source": [
    "print(\"✅ Preprocessing complete!\")\n",
    "print(\"Saved at:\", output_path)\n",
    "print(\"Total planets:\", len(df))\n",
    "print(\"Potentially habitable planets:\", df[\"habitability_label\"].sum())"
   ]
  },
  {
   "cell_type": "code",
   "execution_count": 43,
   "id": "3840c2c2-aece-4790-babd-2784e3f08120",
   "metadata": {},
   "outputs": [
    {
     "data": {
      "text/html": [
       "<div>\n",
       "<style scoped>\n",
       "    .dataframe tbody tr th:only-of-type {\n",
       "        vertical-align: middle;\n",
       "    }\n",
       "\n",
       "    .dataframe tbody tr th {\n",
       "        vertical-align: top;\n",
       "    }\n",
       "\n",
       "    .dataframe thead th {\n",
       "        text-align: right;\n",
       "    }\n",
       "</style>\n",
       "<table border=\"1\" class=\"dataframe\">\n",
       "  <thead>\n",
       "    <tr style=\"text-align: right;\">\n",
       "      <th></th>\n",
       "      <th>name</th>\n",
       "      <th>habitability_score</th>\n",
       "      <th>habitability_label</th>\n",
       "    </tr>\n",
       "  </thead>\n",
       "  <tbody>\n",
       "    <tr>\n",
       "      <th>0</th>\n",
       "      <td>16 Cygni Bb</td>\n",
       "      <td>40.71812</td>\n",
       "      <td>0</td>\n",
       "    </tr>\n",
       "    <tr>\n",
       "      <th>1</th>\n",
       "      <td>23 Librae b</td>\n",
       "      <td>49.51812</td>\n",
       "      <td>0</td>\n",
       "    </tr>\n",
       "    <tr>\n",
       "      <th>2</th>\n",
       "      <td>47 Ursae Majoris b</td>\n",
       "      <td>33.11812</td>\n",
       "      <td>0</td>\n",
       "    </tr>\n",
       "    <tr>\n",
       "      <th>3</th>\n",
       "      <td>51 Pegasi b</td>\n",
       "      <td>33.37212</td>\n",
       "      <td>0</td>\n",
       "    </tr>\n",
       "    <tr>\n",
       "      <th>4</th>\n",
       "      <td>55 Cancri b</td>\n",
       "      <td>35.12266</td>\n",
       "      <td>0</td>\n",
       "    </tr>\n",
       "    <tr>\n",
       "      <th>5</th>\n",
       "      <td>70 Virginis b</td>\n",
       "      <td>42.53812</td>\n",
       "      <td>0</td>\n",
       "    </tr>\n",
       "    <tr>\n",
       "      <th>6</th>\n",
       "      <td>109 Piscium b</td>\n",
       "      <td>32.51812</td>\n",
       "      <td>0</td>\n",
       "    </tr>\n",
       "    <tr>\n",
       "      <th>7</th>\n",
       "      <td>Gamma Cephei Ab</td>\n",
       "      <td>26.71812</td>\n",
       "      <td>0</td>\n",
       "    </tr>\n",
       "    <tr>\n",
       "      <th>8</th>\n",
       "      <td>Gliese 86 b</td>\n",
       "      <td>33.51812</td>\n",
       "      <td>0</td>\n",
       "    </tr>\n",
       "    <tr>\n",
       "      <th>9</th>\n",
       "      <td>Gliese 876 b</td>\n",
       "      <td>25.28446</td>\n",
       "      <td>0</td>\n",
       "    </tr>\n",
       "  </tbody>\n",
       "</table>\n",
       "</div>"
      ],
      "text/plain": [
       "                 name  habitability_score  habitability_label\n",
       "0         16 Cygni Bb            40.71812                   0\n",
       "1         23 Librae b            49.51812                   0\n",
       "2  47 Ursae Majoris b            33.11812                   0\n",
       "3         51 Pegasi b            33.37212                   0\n",
       "4         55 Cancri b            35.12266                   0\n",
       "5       70 Virginis b            42.53812                   0\n",
       "6       109 Piscium b            32.51812                   0\n",
       "7     Gamma Cephei Ab            26.71812                   0\n",
       "8         Gliese 86 b            33.51812                   0\n",
       "9        Gliese 876 b            25.28446                   0"
      ]
     },
     "execution_count": 43,
     "metadata": {},
     "output_type": "execute_result"
    }
   ],
   "source": [
    "# Preview top 10 planets\n",
    "df[[\"name\", \"habitability_score\", \"habitability_label\"]].head(10)"
   ]
  },
  {
   "cell_type": "code",
   "execution_count": null,
   "id": "7c326d46-d00c-4593-8225-0c3e01a2eaf8",
   "metadata": {},
   "outputs": [],
   "source": []
  }
 ],
 "metadata": {
  "kernelspec": {
   "display_name": "Python 3 (ipykernel)",
   "language": "python",
   "name": "python3"
  },
  "language_info": {
   "codemirror_mode": {
    "name": "ipython",
    "version": 3
   },
   "file_extension": ".py",
   "mimetype": "text/x-python",
   "name": "python",
   "nbconvert_exporter": "python",
   "pygments_lexer": "ipython3",
   "version": "3.12.7"
  }
 },
 "nbformat": 4,
 "nbformat_minor": 5
}
