{
 "cells": [
  {
   "cell_type": "markdown",
   "id": "d8ad7cc9-4787-401a-beff-4aaac4f48cf4",
   "metadata": {},
   "source": [
    "# Step 1: Import libraries"
   ]
  },
  {
   "cell_type": "code",
   "execution_count": 3,
   "id": "0259f793-3a2c-4403-88fb-c46a83c2e7ff",
   "metadata": {},
   "outputs": [],
   "source": [
    "import pandas as pd\n",
    "import numpy as np\n",
    "import matplotlib.pyplot as plt\n",
    "import seaborn as sns"
   ]
  },
  {
   "cell_type": "markdown",
   "id": "940a10dd-a3e5-43b1-90c0-4807ffb96e3f",
   "metadata": {},
   "source": [
    "# Step 2: Load dataset"
   ]
  },
  {
   "cell_type": "code",
   "execution_count": 6,
   "id": "e73e4fb3-e540-4b0f-aea5-730fd3e4c7f5",
   "metadata": {},
   "outputs": [],
   "source": [
    "df = pd.read_csv(\"../data/exoplanets.csv\")\n"
   ]
  },
  {
   "cell_type": "markdown",
   "id": "c203bd91-f819-48d8-8b7e-6deeb00f240d",
   "metadata": {},
   "source": [
    "# Step 3: Basic info"
   ]
  },
  {
   "cell_type": "code",
   "execution_count": 8,
   "id": "986a2d1b-c536-483d-b561-9c74c27bff66",
   "metadata": {},
   "outputs": [
    {
     "name": "stdout",
     "output_type": "stream",
     "text": [
      "Shape: (4855, 12)\n",
      "\n",
      "Columns: ['Name', 'Mass (MJ)', 'Radius (RJ)', 'Period (days)', 'Semi-major axis (AU)', 'Temp. (K)', 'Discovery method', 'Disc. Year', 'Distance (ly)', 'Host star mass (M☉)', 'Host star temp. (K)', 'Remarks']\n",
      "\n",
      "Data Types:\n",
      " Name                     object\n",
      "Mass (MJ)                object\n",
      "Radius (RJ)              object\n",
      "Period (days)            object\n",
      "Semi-major axis (AU)     object\n",
      "Temp. (K)                object\n",
      "Discovery method         object\n",
      "Disc. Year              float64\n",
      "Distance (ly)            object\n",
      "Host star mass (M☉)      object\n",
      "Host star temp. (K)      object\n",
      "Remarks                  object\n",
      "dtype: object\n",
      "\n",
      "Missing Values:\n",
      " Name                       0\n",
      "Mass (MJ)               2560\n",
      "Radius (RJ)             1155\n",
      "Period (days)            218\n",
      "Semi-major axis (AU)    1707\n",
      "Temp. (K)               3761\n",
      "Discovery method           0\n",
      "Disc. Year              4444\n",
      "Distance (ly)            149\n",
      "Host star mass (M☉)      380\n",
      "Host star temp. (K)      342\n",
      "Remarks                  353\n",
      "dtype: int64\n"
     ]
    }
   ],
   "source": [
    "print(\"Shape:\", df.shape)\n",
    "print(\"\\nColumns:\", df.columns.tolist())\n",
    "print(\"\\nData Types:\\n\", df.dtypes)\n",
    "print(\"\\nMissing Values:\\n\", df.isnull().sum())"
   ]
  },
  {
   "cell_type": "markdown",
   "id": "2e632c68-c5a5-450a-afbe-1bd8af25061c",
   "metadata": {},
   "source": [
    "# Step 4: Preview dataset"
   ]
  },
  {
   "cell_type": "code",
   "execution_count": 9,
   "id": "4863daf9-5383-4501-8406-acd3ca6635a6",
   "metadata": {},
   "outputs": [
    {
     "data": {
      "text/html": [
       "<div>\n",
       "<style scoped>\n",
       "    .dataframe tbody tr th:only-of-type {\n",
       "        vertical-align: middle;\n",
       "    }\n",
       "\n",
       "    .dataframe tbody tr th {\n",
       "        vertical-align: top;\n",
       "    }\n",
       "\n",
       "    .dataframe thead th {\n",
       "        text-align: right;\n",
       "    }\n",
       "</style>\n",
       "<table border=\"1\" class=\"dataframe\">\n",
       "  <thead>\n",
       "    <tr style=\"text-align: right;\">\n",
       "      <th></th>\n",
       "      <th>Name</th>\n",
       "      <th>Mass (MJ)</th>\n",
       "      <th>Radius (RJ)</th>\n",
       "      <th>Period (days)</th>\n",
       "      <th>Semi-major axis (AU)</th>\n",
       "      <th>Temp. (K)</th>\n",
       "      <th>Discovery method</th>\n",
       "      <th>Disc. Year</th>\n",
       "      <th>Distance (ly)</th>\n",
       "      <th>Host star mass (M☉)</th>\n",
       "      <th>Host star temp. (K)</th>\n",
       "      <th>Remarks</th>\n",
       "    </tr>\n",
       "  </thead>\n",
       "  <tbody>\n",
       "    <tr>\n",
       "      <th>0</th>\n",
       "      <td>16 Cygni Bb</td>\n",
       "      <td>2.38</td>\n",
       "      <td>NaN</td>\n",
       "      <td>799.5</td>\n",
       "      <td>1.66</td>\n",
       "      <td>NaN</td>\n",
       "      <td>radial vel.</td>\n",
       "      <td>1996.0</td>\n",
       "      <td>68.99</td>\n",
       "      <td>1.04</td>\n",
       "      <td>5750</td>\n",
       "      <td>NaN</td>\n",
       "    </tr>\n",
       "    <tr>\n",
       "      <th>1</th>\n",
       "      <td>23 Librae b</td>\n",
       "      <td>1.61</td>\n",
       "      <td>NaN</td>\n",
       "      <td>258.18</td>\n",
       "      <td>0.81</td>\n",
       "      <td>NaN</td>\n",
       "      <td>radial vel.</td>\n",
       "      <td>1999.0</td>\n",
       "      <td>85.46</td>\n",
       "      <td>1.07</td>\n",
       "      <td>5736</td>\n",
       "      <td>NaN</td>\n",
       "    </tr>\n",
       "    <tr>\n",
       "      <th>2</th>\n",
       "      <td>47 Ursae Majoris b</td>\n",
       "      <td>2.53</td>\n",
       "      <td>NaN</td>\n",
       "      <td>1078</td>\n",
       "      <td>2.1</td>\n",
       "      <td>NaN</td>\n",
       "      <td>radial vel.</td>\n",
       "      <td>1996.0</td>\n",
       "      <td>45.02</td>\n",
       "      <td>1.08</td>\n",
       "      <td>5892</td>\n",
       "      <td>Proper name Taphao Thong</td>\n",
       "    </tr>\n",
       "    <tr>\n",
       "      <th>3</th>\n",
       "      <td>51 Pegasi b</td>\n",
       "      <td>0.46</td>\n",
       "      <td>NaN</td>\n",
       "      <td>4.230785</td>\n",
       "      <td>0.0527</td>\n",
       "      <td>NaN</td>\n",
       "      <td>radial vel.</td>\n",
       "      <td>1995.0</td>\n",
       "      <td>50.45</td>\n",
       "      <td>1.12</td>\n",
       "      <td>5793</td>\n",
       "      <td>Proper name Dimidium; previously informally na...</td>\n",
       "    </tr>\n",
       "    <tr>\n",
       "      <th>4</th>\n",
       "      <td>55 Cancri b</td>\n",
       "      <td>0.8306</td>\n",
       "      <td>NaN</td>\n",
       "      <td>14.65152</td>\n",
       "      <td>0.115227</td>\n",
       "      <td>700</td>\n",
       "      <td>radial vel.</td>\n",
       "      <td>1996.0</td>\n",
       "      <td>41.06</td>\n",
       "      <td>0.905</td>\n",
       "      <td>5196</td>\n",
       "      <td>Proper name Galileo</td>\n",
       "    </tr>\n",
       "  </tbody>\n",
       "</table>\n",
       "</div>"
      ],
      "text/plain": [
       "                 Name Mass (MJ) Radius (RJ) Period (days)  \\\n",
       "0         16 Cygni Bb      2.38         NaN         799.5   \n",
       "1         23 Librae b      1.61         NaN        258.18   \n",
       "2  47 Ursae Majoris b      2.53         NaN          1078   \n",
       "3         51 Pegasi b      0.46         NaN      4.230785   \n",
       "4         55 Cancri b    0.8306         NaN      14.65152   \n",
       "\n",
       "  Semi-major axis (AU) Temp. (K) Discovery method  Disc. Year Distance (ly)  \\\n",
       "0                 1.66       NaN      radial vel.      1996.0         68.99   \n",
       "1                 0.81       NaN      radial vel.      1999.0         85.46   \n",
       "2                  2.1       NaN      radial vel.      1996.0         45.02   \n",
       "3               0.0527       NaN      radial vel.      1995.0         50.45   \n",
       "4             0.115227       700      radial vel.      1996.0         41.06   \n",
       "\n",
       "  Host star mass (M☉) Host star temp. (K)  \\\n",
       "0                1.04                5750   \n",
       "1                1.07                5736   \n",
       "2                1.08                5892   \n",
       "3                1.12                5793   \n",
       "4               0.905                5196   \n",
       "\n",
       "                                             Remarks  \n",
       "0                                                NaN  \n",
       "1                                                NaN  \n",
       "2                           Proper name Taphao Thong  \n",
       "3  Proper name Dimidium; previously informally na...  \n",
       "4                                Proper name Galileo  "
      ]
     },
     "execution_count": 9,
     "metadata": {},
     "output_type": "execute_result"
    }
   ],
   "source": [
    "df.head()"
   ]
  },
  {
   "cell_type": "markdown",
   "id": "cea34e6d-2852-4195-8f3e-4b18508ddc27",
   "metadata": {},
   "source": [
    "# Step 5: Basic statistics"
   ]
  },
  {
   "cell_type": "code",
   "execution_count": 10,
   "id": "184636fa-f5ba-46ec-9c2e-122bcb3bb6c9",
   "metadata": {},
   "outputs": [
    {
     "data": {
      "text/html": [
       "<div>\n",
       "<style scoped>\n",
       "    .dataframe tbody tr th:only-of-type {\n",
       "        vertical-align: middle;\n",
       "    }\n",
       "\n",
       "    .dataframe tbody tr th {\n",
       "        vertical-align: top;\n",
       "    }\n",
       "\n",
       "    .dataframe thead th {\n",
       "        text-align: right;\n",
       "    }\n",
       "</style>\n",
       "<table border=\"1\" class=\"dataframe\">\n",
       "  <thead>\n",
       "    <tr style=\"text-align: right;\">\n",
       "      <th></th>\n",
       "      <th>Disc. Year</th>\n",
       "    </tr>\n",
       "  </thead>\n",
       "  <tbody>\n",
       "    <tr>\n",
       "      <th>count</th>\n",
       "      <td>411.000000</td>\n",
       "    </tr>\n",
       "    <tr>\n",
       "      <th>mean</th>\n",
       "      <td>2005.313869</td>\n",
       "    </tr>\n",
       "    <tr>\n",
       "      <th>std</th>\n",
       "      <td>3.639389</td>\n",
       "    </tr>\n",
       "    <tr>\n",
       "      <th>min</th>\n",
       "      <td>1988.000000</td>\n",
       "    </tr>\n",
       "    <tr>\n",
       "      <th>25%</th>\n",
       "      <td>2003.000000</td>\n",
       "    </tr>\n",
       "    <tr>\n",
       "      <th>50%</th>\n",
       "      <td>2006.000000</td>\n",
       "    </tr>\n",
       "    <tr>\n",
       "      <th>75%</th>\n",
       "      <td>2008.000000</td>\n",
       "    </tr>\n",
       "    <tr>\n",
       "      <th>max</th>\n",
       "      <td>2009.000000</td>\n",
       "    </tr>\n",
       "  </tbody>\n",
       "</table>\n",
       "</div>"
      ],
      "text/plain": [
       "        Disc. Year\n",
       "count   411.000000\n",
       "mean   2005.313869\n",
       "std       3.639389\n",
       "min    1988.000000\n",
       "25%    2003.000000\n",
       "50%    2006.000000\n",
       "75%    2008.000000\n",
       "max    2009.000000"
      ]
     },
     "execution_count": 10,
     "metadata": {},
     "output_type": "execute_result"
    }
   ],
   "source": [
    "df.describe()"
   ]
  },
  {
   "cell_type": "markdown",
   "id": "66d97be7-035a-46d1-9d05-fb205717b07d",
   "metadata": {},
   "source": [
    "# Step 6: Missing value heatmap"
   ]
  },
  {
   "cell_type": "code",
   "execution_count": 11,
   "id": "facb7802-6ecb-4650-80e7-2331517cab31",
   "metadata": {},
   "outputs": [
    {
     "data": {
      "image/png": "[encoded data removed]",
      "text/plain": [
       "<Figure size 1000x600 with 1 Axes>"
      ]
     },
     "metadata": {},
     "output_type": "display_data"
    }
   ],
   "source": [
    "plt.figure(figsize=(10,6))\n",
    "sns.heatmap(df.isnull(), cbar=False, cmap=\"viridis\")\n",
    "plt.title(\"Missing Values Heatmap\")\n",
    "plt.show()"
   ]
  },
  {
   "cell_type": "markdown",
   "id": "830e9c83-0204-49b0-9afc-76f7d74885e5",
   "metadata": {},
   "source": [
    "# ---- Step 7: Rename columns for consistency ----"
   ]
  },
  {
   "cell_type": "code",
   "execution_count": 37,
   "id": "eb755638-8d4f-4e85-ab6a-b5ea3e1db209",
   "metadata": {},
   "outputs": [],
   "source": [
    "rename_map = {\n",
    "    \"mass_mj\": \"mass_mj\",\n",
    "    \"radius_rj\": \"radius_rj\",\n",
    "    \"period_days\": \"period_days\",\n",
    "    \"semi_major_axis_au\": \"semi_major_axis_au\",\n",
    "    \"temp_k\": \"temp_k\",\n",
    "    \"distance_ly\": \"distance_ly\",\n",
    "    \"Host star mass (M☉)\": \"star_mass_solar\",   # ✅ fix here\n",
    "    \"star_temp_k\": \"star_temp_k\",\n",
    "    \"discovery_method\": \"discovery_method\",\n",
    "    \"disc_year\": \"disc_year\",\n",
    "    \"remarks\": \"remarks\"\n",
    "}\n",
    "\n",
    "df = df.rename(columns={k: v for k, v in rename_map.items() if k in df.columns})"
   ]
  },
  {
   "cell_type": "markdown",
   "id": "74e17ec9-f5df-4de6-8753-e1e07ea9f483",
   "metadata": {},
   "source": [
    "# ---- Step 8: Convert text → numeric (safe conversion) ----"
   ]
  },
  {
   "cell_type": "code",
   "execution_count": 39,
   "id": "560dbcd3-63d6-4629-9e10-b63f2f5307f8",
   "metadata": {},
   "outputs": [],
   "source": [
    "num_cols_raw = [\"mass_mj\", \"radius_rj\", \"period_days\", \"semi_major_axis_au\",\n",
    "                \"temp_k\", \"distance_ly\", \"star_mass_solar\", \"star_temp_k\"]"
   ]
  },
  {
   "cell_type": "code",
   "execution_count": 40,
   "id": "fb6019e0-f415-4430-9779-48818bc6aaa3",
   "metadata": {},
   "outputs": [],
   "source": [
    "for col in num_cols_raw:\n",
    "    if col in df.columns:\n",
    "        df[col] = pd.to_numeric(df[col], errors=\"coerce\")  # non-numeric → NaN"
   ]
  },
  {
   "cell_type": "markdown",
   "id": "8991aff8-c09d-40c2-835d-24973f7a8775",
   "metadata": {},
   "source": [
    "# ---- Step 9: Unit Conversion ----"
   ]
  },
  {
   "cell_type": "code",
   "execution_count": 41,
   "id": "7d1bf476-c31e-4a90-a220-c698f828d343",
   "metadata": {},
   "outputs": [],
   "source": [
    "df[\"mass_earth\"] = df[\"mass_mj\"] * 317.8   # Jupiter Mass → Earth Mass\n",
    "df[\"radius_earth\"] = df[\"radius_rj\"] * 11.21   # Jupiter Radius → Earth Radius"
   ]
  },
  {
   "cell_type": "markdown",
   "id": "bf9d522a-93aa-4489-82da-eb890b06fcba",
   "metadata": {},
   "source": [
    "# ---- Step 10: Handle Missing Values ----"
   ]
  },
  {
   "cell_type": "code",
   "execution_count": 42,
   "id": "ea7750c6-bba0-4dae-a61d-ad152e3a9a12",
   "metadata": {},
   "outputs": [],
   "source": [
    "num_cols = [\"mass_earth\", \"radius_earth\", \"period_days\", \"semi_major_axis_au\", \n",
    "            \"temp_k\", \"distance_ly\", \"star_mass_solar\", \"star_temp_k\"]"
   ]
  },
  {
   "cell_type": "code",
   "execution_count": 43,
   "id": "1fbcf41f-fbf9-4df2-8851-5cb298fb3a0c",
   "metadata": {},
   "outputs": [],
   "source": [
    "\n",
    "for col in num_cols:\n",
    "    if col in df.columns:\n",
    "        df[col] = df[col].fillna(df[col].median())  # fill NaN with median\n"
   ]
  },
  {
   "cell_type": "code",
   "execution_count": 44,
   "id": "df131a6d-fa43-416c-8642-2012f45f87f1",
   "metadata": {},
   "outputs": [],
   "source": [
    "# Fill categorical with mode\n",
    "if \"discovery_method\" in df.columns:\n",
    "    df[\"discovery_method\"] = df[\"discovery_method\"].fillna(df[\"discovery_method\"].mode()[0])"
   ]
  },
  {
   "cell_type": "code",
   "execution_count": 45,
   "id": "04e46733-58d0-4d96-bc6c-ab3cb02465f9",
   "metadata": {},
   "outputs": [],
   "source": [
    "# Drop rows only if all key numeric values missing\n",
    "df = df.dropna(subset=[\"mass_earth\", \"radius_earth\", \"semi_major_axis_au\"], how=\"all\")"
   ]
  },
  {
   "cell_type": "markdown",
   "id": "a4adf80b-45b1-4d0c-996a-dc6f7a14a858",
   "metadata": {},
   "source": [
    "# ---- Step 10: Feature Engineering (Habitability Rules) ----"
   ]
  },
  {
   "cell_type": "code",
   "execution_count": 46,
   "id": "8765cc2d-9462-4c00-933f-b16374187ac0",
   "metadata": {},
   "outputs": [],
   "source": [
    "def habitability_score(row):\n",
    "    score = 0\n",
    "    if pd.notna(row[\"semi_major_axis_au\"]) and 0.5 <= row[\"semi_major_axis_au\"] <= 2.0:\n",
    "        score += 1\n",
    "    if pd.notna(row[\"temp_k\"]) and 200 <= row[\"temp_k\"] <= 350:\n",
    "        score += 1\n",
    "    if pd.notna(row[\"radius_earth\"]) and row[\"radius_earth\"] <= 2:\n",
    "        score += 1\n",
    "    if pd.notna(row[\"mass_earth\"]) and row[\"mass_earth\"] <= 10:\n",
    "        score += 1\n",
    "    if pd.notna(row[\"star_mass_solar\"]) and 0.7 <= row[\"star_mass_solar\"] <= 1.5:\n",
    "        score += 1\n",
    "    return score"
   ]
  },
  {
   "cell_type": "code",
   "execution_count": 47,
   "id": "04ecfccc-e819-4d3a-8606-a5dc05d5f718",
   "metadata": {},
   "outputs": [],
   "source": [
    "df[\"habitability_score\"] = df.apply(habitability_score, axis=1)\n",
    "df[\"habitability_label\"] = (df[\"habitability_score\"] >= 3).astype(int)"
   ]
  },
  {
   "cell_type": "markdown",
   "id": "b1512a0e-e8be-4c28-b68f-3f18585fc905",
   "metadata": {},
   "source": [
    "# ---- Step 11: Save ----"
   ]
  },
  {
   "cell_type": "code",
   "execution_count": 48,
   "id": "dedff346-3def-4bf7-b6f4-6795d0660b54",
   "metadata": {},
   "outputs": [],
   "source": [
    "df.to_csv(\"../data/exoplanets_processed.csv\", index=False)"
   ]
  },
  {
   "cell_type": "code",
   "execution_count": 49,
   "id": "def5684c-e094-4944-9c75-c8535dcdffa9",
   "metadata": {},
   "outputs": [
    {
     "name": "stdout",
     "output_type": "stream",
     "text": [
      "✅ Preprocessing complete! Saved exoplanets_processed.csv\n",
      "Total planets: 4855\n",
      "Potentially habitable planets: 63\n"
     ]
    }
   ],
   "source": [
    "print(\"✅ Preprocessing complete! Saved exoplanets_processed.csv\")\n",
    "print(\"Total planets:\", len(df))\n",
    "print(\"Potentially habitable planets:\", df['habitability_label'].sum())"
   ]
  },
  {
   "cell_type": "code",
   "execution_count": null,
   "id": "4e33de1d-4e0e-45eb-9c9c-6a4d9933d84e",
   "metadata": {},
   "outputs": [],
   "source": []
  }
 ],
 "metadata": {
  "kernelspec": {
   "display_name": "Python 3 (ipykernel)",
   "language": "python",
   "name": "python3"
  },
  "language_info": {
   "codemirror_mode": {
    "name": "ipython",
    "version": 3
   },
   "file_extension": ".py",
   "mimetype": "text/x-python",
   "name": "python",
   "nbconvert_exporter": "python",
   "pygments_lexer": "ipython3",
   "version": "3.12.7"
  }
 },
 "nbformat": 4,
 "nbformat_minor": 5
}
